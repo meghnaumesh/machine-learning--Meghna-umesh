{
  "nbformat": 4,
  "nbformat_minor": 0,
  "metadata": {
    "colab": {
      "name": "meghnawine(2).ipynb",
      "provenance": [],
      "collapsed_sections": []
    },
    "kernelspec": {
      "name": "python3",
      "display_name": "Python 3"
    }
  },
  "cells": [
    {
      "cell_type": "markdown",
      "metadata": {
        "id": "kS6jZvYsi53P",
        "colab_type": "text"
      },
      "source": [
        "#Data Preprocessing"
      ]
    },
    {
      "cell_type": "code",
      "metadata": {
        "id": "zyKFg1yi9Xe-",
        "colab_type": "code",
        "colab": {}
      },
      "source": [
        "import pandas as pd\n",
        "import numpy as np"
      ],
      "execution_count": 1,
      "outputs": []
    },
    {
      "cell_type": "code",
      "metadata": {
        "id": "lHMVuRzXFXpN",
        "colab_type": "code",
        "colab": {}
      },
      "source": [
        "data = pd.read_csv('/content/datasets_4458_8204_winequality-red.csv')"
      ],
      "execution_count": 2,
      "outputs": []
    },
    {
      "cell_type": "code",
      "metadata": {
        "id": "YjArkvNWFdQ9",
        "colab_type": "code",
        "colab": {
          "base_uri": "https://localhost:8080/",
          "height": 402
        },
        "outputId": "27f4b8fe-4859-46a1-c1d4-b537d35e532b"
      },
      "source": [
        "data"
      ],
      "execution_count": 3,
      "outputs": [
        {
          "output_type": "execute_result",
          "data": {
            "text/html": [
              "<div>\n",
              "<style scoped>\n",
              "    .dataframe tbody tr th:only-of-type {\n",
              "        vertical-align: middle;\n",
              "    }\n",
              "\n",
              "    .dataframe tbody tr th {\n",
              "        vertical-align: top;\n",
              "    }\n",
              "\n",
              "    .dataframe thead th {\n",
              "        text-align: right;\n",
              "    }\n",
              "</style>\n",
              "<table border=\"1\" class=\"dataframe\">\n",
              "  <thead>\n",
              "    <tr style=\"text-align: right;\">\n",
              "      <th></th>\n",
              "      <th>fixed acidity</th>\n",
              "      <th>volatile acidity</th>\n",
              "      <th>citric acid</th>\n",
              "      <th>residual sugar</th>\n",
              "      <th>chlorides</th>\n",
              "      <th>free sulfur dioxide</th>\n",
              "      <th>total sulfur dioxide</th>\n",
              "      <th>density</th>\n",
              "      <th>pH</th>\n",
              "      <th>sulphates</th>\n",
              "      <th>alcohol</th>\n",
              "      <th>quality</th>\n",
              "    </tr>\n",
              "  </thead>\n",
              "  <tbody>\n",
              "    <tr>\n",
              "      <th>0</th>\n",
              "      <td>7.4</td>\n",
              "      <td>0.700</td>\n",
              "      <td>0.00</td>\n",
              "      <td>1.9</td>\n",
              "      <td>0.076</td>\n",
              "      <td>11.0</td>\n",
              "      <td>34.0</td>\n",
              "      <td>0.99780</td>\n",
              "      <td>3.51</td>\n",
              "      <td>0.56</td>\n",
              "      <td>9.4</td>\n",
              "      <td>5</td>\n",
              "    </tr>\n",
              "    <tr>\n",
              "      <th>1</th>\n",
              "      <td>7.8</td>\n",
              "      <td>0.880</td>\n",
              "      <td>0.00</td>\n",
              "      <td>2.6</td>\n",
              "      <td>0.098</td>\n",
              "      <td>25.0</td>\n",
              "      <td>67.0</td>\n",
              "      <td>0.99680</td>\n",
              "      <td>3.20</td>\n",
              "      <td>0.68</td>\n",
              "      <td>9.8</td>\n",
              "      <td>5</td>\n",
              "    </tr>\n",
              "    <tr>\n",
              "      <th>2</th>\n",
              "      <td>7.8</td>\n",
              "      <td>0.760</td>\n",
              "      <td>0.04</td>\n",
              "      <td>2.3</td>\n",
              "      <td>0.092</td>\n",
              "      <td>15.0</td>\n",
              "      <td>54.0</td>\n",
              "      <td>0.99700</td>\n",
              "      <td>3.26</td>\n",
              "      <td>0.65</td>\n",
              "      <td>9.8</td>\n",
              "      <td>5</td>\n",
              "    </tr>\n",
              "    <tr>\n",
              "      <th>3</th>\n",
              "      <td>11.2</td>\n",
              "      <td>0.280</td>\n",
              "      <td>0.56</td>\n",
              "      <td>1.9</td>\n",
              "      <td>0.075</td>\n",
              "      <td>17.0</td>\n",
              "      <td>60.0</td>\n",
              "      <td>0.99800</td>\n",
              "      <td>3.16</td>\n",
              "      <td>0.58</td>\n",
              "      <td>9.8</td>\n",
              "      <td>6</td>\n",
              "    </tr>\n",
              "    <tr>\n",
              "      <th>4</th>\n",
              "      <td>7.4</td>\n",
              "      <td>0.700</td>\n",
              "      <td>0.00</td>\n",
              "      <td>1.9</td>\n",
              "      <td>0.076</td>\n",
              "      <td>11.0</td>\n",
              "      <td>34.0</td>\n",
              "      <td>0.99780</td>\n",
              "      <td>3.51</td>\n",
              "      <td>0.56</td>\n",
              "      <td>9.4</td>\n",
              "      <td>5</td>\n",
              "    </tr>\n",
              "    <tr>\n",
              "      <th>...</th>\n",
              "      <td>...</td>\n",
              "      <td>...</td>\n",
              "      <td>...</td>\n",
              "      <td>...</td>\n",
              "      <td>...</td>\n",
              "      <td>...</td>\n",
              "      <td>...</td>\n",
              "      <td>...</td>\n",
              "      <td>...</td>\n",
              "      <td>...</td>\n",
              "      <td>...</td>\n",
              "      <td>...</td>\n",
              "    </tr>\n",
              "    <tr>\n",
              "      <th>1594</th>\n",
              "      <td>6.2</td>\n",
              "      <td>0.600</td>\n",
              "      <td>0.08</td>\n",
              "      <td>2.0</td>\n",
              "      <td>0.090</td>\n",
              "      <td>32.0</td>\n",
              "      <td>44.0</td>\n",
              "      <td>0.99490</td>\n",
              "      <td>3.45</td>\n",
              "      <td>0.58</td>\n",
              "      <td>10.5</td>\n",
              "      <td>5</td>\n",
              "    </tr>\n",
              "    <tr>\n",
              "      <th>1595</th>\n",
              "      <td>5.9</td>\n",
              "      <td>0.550</td>\n",
              "      <td>0.10</td>\n",
              "      <td>2.2</td>\n",
              "      <td>0.062</td>\n",
              "      <td>39.0</td>\n",
              "      <td>51.0</td>\n",
              "      <td>0.99512</td>\n",
              "      <td>3.52</td>\n",
              "      <td>0.76</td>\n",
              "      <td>11.2</td>\n",
              "      <td>6</td>\n",
              "    </tr>\n",
              "    <tr>\n",
              "      <th>1596</th>\n",
              "      <td>6.3</td>\n",
              "      <td>0.510</td>\n",
              "      <td>0.13</td>\n",
              "      <td>2.3</td>\n",
              "      <td>0.076</td>\n",
              "      <td>29.0</td>\n",
              "      <td>40.0</td>\n",
              "      <td>0.99574</td>\n",
              "      <td>3.42</td>\n",
              "      <td>0.75</td>\n",
              "      <td>11.0</td>\n",
              "      <td>6</td>\n",
              "    </tr>\n",
              "    <tr>\n",
              "      <th>1597</th>\n",
              "      <td>5.9</td>\n",
              "      <td>0.645</td>\n",
              "      <td>0.12</td>\n",
              "      <td>2.0</td>\n",
              "      <td>0.075</td>\n",
              "      <td>32.0</td>\n",
              "      <td>44.0</td>\n",
              "      <td>0.99547</td>\n",
              "      <td>3.57</td>\n",
              "      <td>0.71</td>\n",
              "      <td>10.2</td>\n",
              "      <td>5</td>\n",
              "    </tr>\n",
              "    <tr>\n",
              "      <th>1598</th>\n",
              "      <td>6.0</td>\n",
              "      <td>0.310</td>\n",
              "      <td>0.47</td>\n",
              "      <td>3.6</td>\n",
              "      <td>0.067</td>\n",
              "      <td>18.0</td>\n",
              "      <td>42.0</td>\n",
              "      <td>0.99549</td>\n",
              "      <td>3.39</td>\n",
              "      <td>0.66</td>\n",
              "      <td>11.0</td>\n",
              "      <td>6</td>\n",
              "    </tr>\n",
              "  </tbody>\n",
              "</table>\n",
              "<p>1599 rows × 12 columns</p>\n",
              "</div>"
            ],
            "text/plain": [
              "      fixed acidity  volatile acidity  citric acid  ...  sulphates  alcohol  quality\n",
              "0               7.4             0.700         0.00  ...       0.56      9.4        5\n",
              "1               7.8             0.880         0.00  ...       0.68      9.8        5\n",
              "2               7.8             0.760         0.04  ...       0.65      9.8        5\n",
              "3              11.2             0.280         0.56  ...       0.58      9.8        6\n",
              "4               7.4             0.700         0.00  ...       0.56      9.4        5\n",
              "...             ...               ...          ...  ...        ...      ...      ...\n",
              "1594            6.2             0.600         0.08  ...       0.58     10.5        5\n",
              "1595            5.9             0.550         0.10  ...       0.76     11.2        6\n",
              "1596            6.3             0.510         0.13  ...       0.75     11.0        6\n",
              "1597            5.9             0.645         0.12  ...       0.71     10.2        5\n",
              "1598            6.0             0.310         0.47  ...       0.66     11.0        6\n",
              "\n",
              "[1599 rows x 12 columns]"
            ]
          },
          "metadata": {
            "tags": []
          },
          "execution_count": 3
        }
      ]
    },
    {
      "cell_type": "code",
      "metadata": {
        "id": "0Yo_KO5hFeF6",
        "colab_type": "code",
        "colab": {
          "base_uri": "https://localhost:8080/",
          "height": 336
        },
        "outputId": "694c00d5-508c-4cc1-9882-60fd3001ca8f"
      },
      "source": [
        "data.info()"
      ],
      "execution_count": 4,
      "outputs": [
        {
          "output_type": "stream",
          "text": [
            "<class 'pandas.core.frame.DataFrame'>\n",
            "RangeIndex: 1599 entries, 0 to 1598\n",
            "Data columns (total 12 columns):\n",
            " #   Column                Non-Null Count  Dtype  \n",
            "---  ------                --------------  -----  \n",
            " 0   fixed acidity         1599 non-null   float64\n",
            " 1   volatile acidity      1599 non-null   float64\n",
            " 2   citric acid           1599 non-null   float64\n",
            " 3   residual sugar        1599 non-null   float64\n",
            " 4   chlorides             1599 non-null   float64\n",
            " 5   free sulfur dioxide   1599 non-null   float64\n",
            " 6   total sulfur dioxide  1599 non-null   float64\n",
            " 7   density               1599 non-null   float64\n",
            " 8   pH                    1599 non-null   float64\n",
            " 9   sulphates             1599 non-null   float64\n",
            " 10  alcohol               1599 non-null   float64\n",
            " 11  quality               1599 non-null   int64  \n",
            "dtypes: float64(11), int64(1)\n",
            "memory usage: 150.0 KB\n"
          ],
          "name": "stdout"
        }
      ]
    },
    {
      "cell_type": "code",
      "metadata": {
        "id": "ou9kjUheIoJK",
        "colab_type": "code",
        "colab": {
          "base_uri": "https://localhost:8080/",
          "height": 34
        },
        "outputId": "cca4541d-a3e2-4e32-d277-7593931af9ef"
      },
      "source": [
        "data['quality'].unique()"
      ],
      "execution_count": 5,
      "outputs": [
        {
          "output_type": "execute_result",
          "data": {
            "text/plain": [
              "array([5, 6, 7, 4, 8, 3])"
            ]
          },
          "metadata": {
            "tags": []
          },
          "execution_count": 5
        }
      ]
    },
    {
      "cell_type": "markdown",
      "metadata": {
        "id": "EgNxi95ijMy3",
        "colab_type": "text"
      },
      "source": [
        "#Separate Features and Target\n",
        "\n",
        "* Here lets considering 'quality' as target\n",
        "*  and rest of the columns as features"
      ]
    },
    {
      "cell_type": "code",
      "metadata": {
        "id": "7AQ9V-OpItXp",
        "colab_type": "code",
        "colab": {}
      },
      "source": [
        "x = data.iloc[:,:-1].values\n",
        "y = data.iloc[:, -1].values"
      ],
      "execution_count": 6,
      "outputs": []
    },
    {
      "cell_type": "code",
      "metadata": {
        "id": "5Txnh7pC0A3A",
        "colab_type": "code",
        "colab": {
          "base_uri": "https://localhost:8080/",
          "height": 134
        },
        "outputId": "3c03bd03-28f4-4be0-88ff-bfcd3516e096"
      },
      "source": [
        "x"
      ],
      "execution_count": 7,
      "outputs": [
        {
          "output_type": "execute_result",
          "data": {
            "text/plain": [
              "array([[ 7.4  ,  0.7  ,  0.   , ...,  3.51 ,  0.56 ,  9.4  ],\n",
              "       [ 7.8  ,  0.88 ,  0.   , ...,  3.2  ,  0.68 ,  9.8  ],\n",
              "       [ 7.8  ,  0.76 ,  0.04 , ...,  3.26 ,  0.65 ,  9.8  ],\n",
              "       ...,\n",
              "       [ 6.3  ,  0.51 ,  0.13 , ...,  3.42 ,  0.75 , 11.   ],\n",
              "       [ 5.9  ,  0.645,  0.12 , ...,  3.57 ,  0.71 , 10.2  ],\n",
              "       [ 6.   ,  0.31 ,  0.47 , ...,  3.39 ,  0.66 , 11.   ]])"
            ]
          },
          "metadata": {
            "tags": []
          },
          "execution_count": 7
        }
      ]
    },
    {
      "cell_type": "code",
      "metadata": {
        "id": "AHvBJhU00G6C",
        "colab_type": "code",
        "colab": {
          "base_uri": "https://localhost:8080/",
          "height": 34
        },
        "outputId": "16acd932-7304-42f8-fd26-bb96205e4381"
      },
      "source": [
        "y"
      ],
      "execution_count": 8,
      "outputs": [
        {
          "output_type": "execute_result",
          "data": {
            "text/plain": [
              "array([5, 5, 5, ..., 6, 5, 6])"
            ]
          },
          "metadata": {
            "tags": []
          },
          "execution_count": 8
        }
      ]
    },
    {
      "cell_type": "code",
      "metadata": {
        "id": "p5bqvBH45wum",
        "colab_type": "code",
        "colab": {}
      },
      "source": [
        "from sklearn.model_selection import train_test_split"
      ],
      "execution_count": 9,
      "outputs": []
    },
    {
      "cell_type": "code",
      "metadata": {
        "id": "NPr4dGN-5_wj",
        "colab_type": "code",
        "colab": {}
      },
      "source": [
        "x_train, x_test, y_train, y_test = train_test_split(x, y, test_size=0.2)"
      ],
      "execution_count": 10,
      "outputs": []
    },
    {
      "cell_type": "code",
      "metadata": {
        "id": "4vXalqle1mk6",
        "colab_type": "code",
        "colab": {
          "base_uri": "https://localhost:8080/",
          "height": 34
        },
        "outputId": "4ee064cc-7017-4cda-aace-86ce9eefc651"
      },
      "source": [
        "y_train"
      ],
      "execution_count": 11,
      "outputs": [
        {
          "output_type": "execute_result",
          "data": {
            "text/plain": [
              "array([3, 5, 6, ..., 6, 6, 5])"
            ]
          },
          "metadata": {
            "tags": []
          },
          "execution_count": 11
        }
      ]
    },
    {
      "cell_type": "code",
      "metadata": {
        "id": "LU_bMfFc14-t",
        "colab_type": "code",
        "colab": {
          "base_uri": "https://localhost:8080/",
          "height": 269
        },
        "outputId": "e250e943-c0ab-4501-c5f3-d3077b2fbf85"
      },
      "source": [
        "y_test"
      ],
      "execution_count": 12,
      "outputs": [
        {
          "output_type": "execute_result",
          "data": {
            "text/plain": [
              "array([5, 5, 5, 6, 5, 7, 5, 5, 5, 6, 6, 5, 7, 5, 6, 7, 6, 5, 6, 6, 6, 6,\n",
              "       6, 6, 5, 5, 5, 6, 5, 5, 5, 5, 6, 5, 5, 5, 3, 6, 6, 6, 6, 5, 6, 5,\n",
              "       5, 6, 6, 6, 5, 5, 5, 6, 5, 5, 6, 6, 7, 6, 5, 5, 7, 7, 4, 5, 6, 5,\n",
              "       6, 5, 6, 5, 5, 5, 6, 7, 5, 6, 6, 6, 7, 6, 7, 5, 4, 8, 7, 6, 6, 6,\n",
              "       6, 7, 6, 6, 6, 6, 5, 5, 7, 6, 6, 5, 6, 5, 6, 5, 5, 5, 6, 7, 7, 5,\n",
              "       7, 5, 7, 7, 6, 7, 6, 6, 5, 6, 6, 5, 6, 5, 4, 5, 7, 6, 6, 6, 6, 7,\n",
              "       5, 6, 8, 5, 5, 5, 7, 6, 5, 5, 5, 5, 5, 5, 6, 5, 6, 6, 7, 5, 6, 6,\n",
              "       7, 5, 6, 5, 6, 5, 6, 5, 6, 5, 7, 7, 5, 6, 6, 6, 6, 5, 6, 6, 7, 6,\n",
              "       5, 5, 6, 5, 6, 4, 7, 7, 8, 5, 5, 6, 6, 7, 5, 6, 8, 7, 4, 6, 5, 6,\n",
              "       6, 5, 7, 6, 6, 6, 7, 5, 6, 7, 5, 6, 6, 5, 6, 5, 7, 7, 6, 7, 5, 7,\n",
              "       7, 6, 5, 6, 5, 6, 6, 5, 6, 5, 6, 6, 5, 6, 5, 5, 7, 5, 5, 5, 6, 5,\n",
              "       5, 6, 6, 5, 5, 7, 6, 5, 6, 5, 5, 6, 5, 5, 5, 5, 5, 5, 7, 5, 5, 5,\n",
              "       6, 6, 5, 7, 5, 5, 6, 6, 6, 5, 6, 5, 5, 5, 5, 6, 5, 5, 5, 5, 6, 7,\n",
              "       5, 6, 5, 5, 7, 5, 5, 5, 6, 7, 6, 5, 6, 6, 5, 7, 5, 5, 5, 6, 4, 5,\n",
              "       6, 6, 5, 6, 5, 6, 6, 6, 6, 6, 6, 5])"
            ]
          },
          "metadata": {
            "tags": []
          },
          "execution_count": 12
        }
      ]
    },
    {
      "cell_type": "code",
      "metadata": {
        "id": "_pxVbV5x2Ffh",
        "colab_type": "code",
        "colab": {
          "base_uri": "https://localhost:8080/",
          "height": 134
        },
        "outputId": "12da4ad4-33a4-49ad-c75d-5b3352213ad3"
      },
      "source": [
        "x_train"
      ],
      "execution_count": 13,
      "outputs": [
        {
          "output_type": "execute_result",
          "data": {
            "text/plain": [
              "array([[ 7.4  ,  1.185,  0.   , ...,  3.63 ,  0.54 , 10.7  ],\n",
              "       [ 6.9  ,  0.57 ,  0.   , ...,  3.41 ,  0.52 , 10.8  ],\n",
              "       [ 6.6  ,  0.725,  0.09 , ...,  3.35 ,  0.49 , 10.8  ],\n",
              "       ...,\n",
              "       [11.5  ,  0.18 ,  0.51 , ...,  3.28 ,  0.97 , 10.1  ],\n",
              "       [ 8.3  ,  0.54 ,  0.28 , ...,  3.39 ,  0.61 , 10.   ],\n",
              "       [ 7.1  ,  0.34 ,  0.28 , ...,  3.45 ,  0.48 ,  9.4  ]])"
            ]
          },
          "metadata": {
            "tags": []
          },
          "execution_count": 13
        }
      ]
    },
    {
      "cell_type": "code",
      "metadata": {
        "id": "3f6bm1bf6Iz_",
        "colab_type": "code",
        "colab": {}
      },
      "source": [
        "from sklearn.preprocessing import StandardScaler"
      ],
      "execution_count": 14,
      "outputs": []
    },
    {
      "cell_type": "code",
      "metadata": {
        "id": "0iv7wDcH8BmP",
        "colab_type": "code",
        "colab": {}
      },
      "source": [
        "ntrain = y_train.reshape(len(y_train), 1)\n",
        "ntest = y_test.reshape(len(y_test), 1)"
      ],
      "execution_count": 15,
      "outputs": []
    },
    {
      "cell_type": "code",
      "metadata": {
        "id": "pf2moM0X2rGh",
        "colab_type": "code",
        "colab": {
          "base_uri": "https://localhost:8080/",
          "height": 134
        },
        "outputId": "1ba663a0-1694-4aa5-a047-6b03cb0aaedb"
      },
      "source": [
        "ntrain"
      ],
      "execution_count": 16,
      "outputs": [
        {
          "output_type": "execute_result",
          "data": {
            "text/plain": [
              "array([[3],\n",
              "       [5],\n",
              "       [6],\n",
              "       ...,\n",
              "       [6],\n",
              "       [6],\n",
              "       [5]])"
            ]
          },
          "metadata": {
            "tags": []
          },
          "execution_count": 16
        }
      ]
    },
    {
      "cell_type": "code",
      "metadata": {
        "id": "5nwI9WyXzmii",
        "colab_type": "code",
        "colab": {
          "base_uri": "https://localhost:8080/",
          "height": 1000
        },
        "outputId": "f4d2f7d0-2914-4cbe-8e82-ff057cefdfa6"
      },
      "source": [
        "ntest"
      ],
      "execution_count": 17,
      "outputs": [
        {
          "output_type": "execute_result",
          "data": {
            "text/plain": [
              "array([[5],\n",
              "       [5],\n",
              "       [5],\n",
              "       [6],\n",
              "       [5],\n",
              "       [7],\n",
              "       [5],\n",
              "       [5],\n",
              "       [5],\n",
              "       [6],\n",
              "       [6],\n",
              "       [5],\n",
              "       [7],\n",
              "       [5],\n",
              "       [6],\n",
              "       [7],\n",
              "       [6],\n",
              "       [5],\n",
              "       [6],\n",
              "       [6],\n",
              "       [6],\n",
              "       [6],\n",
              "       [6],\n",
              "       [6],\n",
              "       [5],\n",
              "       [5],\n",
              "       [5],\n",
              "       [6],\n",
              "       [5],\n",
              "       [5],\n",
              "       [5],\n",
              "       [5],\n",
              "       [6],\n",
              "       [5],\n",
              "       [5],\n",
              "       [5],\n",
              "       [3],\n",
              "       [6],\n",
              "       [6],\n",
              "       [6],\n",
              "       [6],\n",
              "       [5],\n",
              "       [6],\n",
              "       [5],\n",
              "       [5],\n",
              "       [6],\n",
              "       [6],\n",
              "       [6],\n",
              "       [5],\n",
              "       [5],\n",
              "       [5],\n",
              "       [6],\n",
              "       [5],\n",
              "       [5],\n",
              "       [6],\n",
              "       [6],\n",
              "       [7],\n",
              "       [6],\n",
              "       [5],\n",
              "       [5],\n",
              "       [7],\n",
              "       [7],\n",
              "       [4],\n",
              "       [5],\n",
              "       [6],\n",
              "       [5],\n",
              "       [6],\n",
              "       [5],\n",
              "       [6],\n",
              "       [5],\n",
              "       [5],\n",
              "       [5],\n",
              "       [6],\n",
              "       [7],\n",
              "       [5],\n",
              "       [6],\n",
              "       [6],\n",
              "       [6],\n",
              "       [7],\n",
              "       [6],\n",
              "       [7],\n",
              "       [5],\n",
              "       [4],\n",
              "       [8],\n",
              "       [7],\n",
              "       [6],\n",
              "       [6],\n",
              "       [6],\n",
              "       [6],\n",
              "       [7],\n",
              "       [6],\n",
              "       [6],\n",
              "       [6],\n",
              "       [6],\n",
              "       [5],\n",
              "       [5],\n",
              "       [7],\n",
              "       [6],\n",
              "       [6],\n",
              "       [5],\n",
              "       [6],\n",
              "       [5],\n",
              "       [6],\n",
              "       [5],\n",
              "       [5],\n",
              "       [5],\n",
              "       [6],\n",
              "       [7],\n",
              "       [7],\n",
              "       [5],\n",
              "       [7],\n",
              "       [5],\n",
              "       [7],\n",
              "       [7],\n",
              "       [6],\n",
              "       [7],\n",
              "       [6],\n",
              "       [6],\n",
              "       [5],\n",
              "       [6],\n",
              "       [6],\n",
              "       [5],\n",
              "       [6],\n",
              "       [5],\n",
              "       [4],\n",
              "       [5],\n",
              "       [7],\n",
              "       [6],\n",
              "       [6],\n",
              "       [6],\n",
              "       [6],\n",
              "       [7],\n",
              "       [5],\n",
              "       [6],\n",
              "       [8],\n",
              "       [5],\n",
              "       [5],\n",
              "       [5],\n",
              "       [7],\n",
              "       [6],\n",
              "       [5],\n",
              "       [5],\n",
              "       [5],\n",
              "       [5],\n",
              "       [5],\n",
              "       [5],\n",
              "       [6],\n",
              "       [5],\n",
              "       [6],\n",
              "       [6],\n",
              "       [7],\n",
              "       [5],\n",
              "       [6],\n",
              "       [6],\n",
              "       [7],\n",
              "       [5],\n",
              "       [6],\n",
              "       [5],\n",
              "       [6],\n",
              "       [5],\n",
              "       [6],\n",
              "       [5],\n",
              "       [6],\n",
              "       [5],\n",
              "       [7],\n",
              "       [7],\n",
              "       [5],\n",
              "       [6],\n",
              "       [6],\n",
              "       [6],\n",
              "       [6],\n",
              "       [5],\n",
              "       [6],\n",
              "       [6],\n",
              "       [7],\n",
              "       [6],\n",
              "       [5],\n",
              "       [5],\n",
              "       [6],\n",
              "       [5],\n",
              "       [6],\n",
              "       [4],\n",
              "       [7],\n",
              "       [7],\n",
              "       [8],\n",
              "       [5],\n",
              "       [5],\n",
              "       [6],\n",
              "       [6],\n",
              "       [7],\n",
              "       [5],\n",
              "       [6],\n",
              "       [8],\n",
              "       [7],\n",
              "       [4],\n",
              "       [6],\n",
              "       [5],\n",
              "       [6],\n",
              "       [6],\n",
              "       [5],\n",
              "       [7],\n",
              "       [6],\n",
              "       [6],\n",
              "       [6],\n",
              "       [7],\n",
              "       [5],\n",
              "       [6],\n",
              "       [7],\n",
              "       [5],\n",
              "       [6],\n",
              "       [6],\n",
              "       [5],\n",
              "       [6],\n",
              "       [5],\n",
              "       [7],\n",
              "       [7],\n",
              "       [6],\n",
              "       [7],\n",
              "       [5],\n",
              "       [7],\n",
              "       [7],\n",
              "       [6],\n",
              "       [5],\n",
              "       [6],\n",
              "       [5],\n",
              "       [6],\n",
              "       [6],\n",
              "       [5],\n",
              "       [6],\n",
              "       [5],\n",
              "       [6],\n",
              "       [6],\n",
              "       [5],\n",
              "       [6],\n",
              "       [5],\n",
              "       [5],\n",
              "       [7],\n",
              "       [5],\n",
              "       [5],\n",
              "       [5],\n",
              "       [6],\n",
              "       [5],\n",
              "       [5],\n",
              "       [6],\n",
              "       [6],\n",
              "       [5],\n",
              "       [5],\n",
              "       [7],\n",
              "       [6],\n",
              "       [5],\n",
              "       [6],\n",
              "       [5],\n",
              "       [5],\n",
              "       [6],\n",
              "       [5],\n",
              "       [5],\n",
              "       [5],\n",
              "       [5],\n",
              "       [5],\n",
              "       [5],\n",
              "       [7],\n",
              "       [5],\n",
              "       [5],\n",
              "       [5],\n",
              "       [6],\n",
              "       [6],\n",
              "       [5],\n",
              "       [7],\n",
              "       [5],\n",
              "       [5],\n",
              "       [6],\n",
              "       [6],\n",
              "       [6],\n",
              "       [5],\n",
              "       [6],\n",
              "       [5],\n",
              "       [5],\n",
              "       [5],\n",
              "       [5],\n",
              "       [6],\n",
              "       [5],\n",
              "       [5],\n",
              "       [5],\n",
              "       [5],\n",
              "       [6],\n",
              "       [7],\n",
              "       [5],\n",
              "       [6],\n",
              "       [5],\n",
              "       [5],\n",
              "       [7],\n",
              "       [5],\n",
              "       [5],\n",
              "       [5],\n",
              "       [6],\n",
              "       [7],\n",
              "       [6],\n",
              "       [5],\n",
              "       [6],\n",
              "       [6],\n",
              "       [5],\n",
              "       [7],\n",
              "       [5],\n",
              "       [5],\n",
              "       [5],\n",
              "       [6],\n",
              "       [4],\n",
              "       [5],\n",
              "       [6],\n",
              "       [6],\n",
              "       [5],\n",
              "       [6],\n",
              "       [5],\n",
              "       [6],\n",
              "       [6],\n",
              "       [6],\n",
              "       [6],\n",
              "       [6],\n",
              "       [6],\n",
              "       [5]])"
            ]
          },
          "metadata": {
            "tags": []
          },
          "execution_count": 17
        }
      ]
    },
    {
      "cell_type": "code",
      "metadata": {
        "id": "JiGIPSBT6NQY",
        "colab_type": "code",
        "colab": {}
      },
      "source": [
        "x_sc = StandardScaler()\n",
        "y_sc = StandardScaler()"
      ],
      "execution_count": 18,
      "outputs": []
    },
    {
      "cell_type": "code",
      "metadata": {
        "id": "e8BVHW-O6i03",
        "colab_type": "code",
        "colab": {}
      },
      "source": [
        "xn_train = x_sc.fit_transform(x_train)\n",
        "yn_train = y_sc.fit_transform(ntrain)"
      ],
      "execution_count": 19,
      "outputs": []
    },
    {
      "cell_type": "code",
      "metadata": {
        "id": "QQNcU7t6-6Rf",
        "colab_type": "code",
        "colab": {}
      },
      "source": [
        "xn_test = x_sc.transform(x_test)\n",
        "yn_test = y_sc.transform(ntest)"
      ],
      "execution_count": 20,
      "outputs": []
    },
    {
      "cell_type": "code",
      "metadata": {
        "id": "8S56SEdG649b",
        "colab_type": "code",
        "colab": {
          "base_uri": "https://localhost:8080/",
          "height": 34
        },
        "outputId": "7452488f-1f05-45f1-fdab-c831bebe70b3"
      },
      "source": [
        "len(xn_train)"
      ],
      "execution_count": 21,
      "outputs": [
        {
          "output_type": "execute_result",
          "data": {
            "text/plain": [
              "1279"
            ]
          },
          "metadata": {
            "tags": []
          },
          "execution_count": 21
        }
      ]
    },
    {
      "cell_type": "code",
      "metadata": {
        "id": "Z53e7r5h-fr2",
        "colab_type": "code",
        "colab": {
          "base_uri": "https://localhost:8080/",
          "height": 235
        },
        "outputId": "441d1ec6-6fc2-4326-f201-58d20cb6ec07"
      },
      "source": [
        "xn_train"
      ],
      "execution_count": 22,
      "outputs": [
        {
          "output_type": "execute_result",
          "data": {
            "text/plain": [
              "array([[-0.53839527,  3.61380433, -1.39192448, ...,  2.09728194,\n",
              "        -0.68616909,  0.27929036],\n",
              "       [-0.82741045,  0.21126756, -1.39192448, ...,  0.6573005 ,\n",
              "        -0.80635674,  0.37426418],\n",
              "       [-1.00081955,  1.06881748, -0.93044859, ...,  0.26457829,\n",
              "        -0.98663823,  0.37426418],\n",
              "       ...,\n",
              "       [ 1.83152916, -1.94643868,  1.22310553, ..., -0.19359762,\n",
              "         1.89786552, -0.29055257],\n",
              "       [-0.01816796,  0.04529016,  0.04377827, ...,  0.5263931 ,\n",
              "        -0.26551229, -0.38552639],\n",
              "       [-0.71180438, -1.06122586,  0.04377827, ...,  0.91911531,\n",
              "        -1.04673206, -0.95536932]])"
            ]
          },
          "metadata": {
            "tags": []
          },
          "execution_count": 22
        }
      ]
    },
    {
      "cell_type": "code",
      "metadata": {
        "id": "UwUls98Y8gjF",
        "colab_type": "code",
        "colab": {
          "base_uri": "https://localhost:8080/",
          "height": 34
        },
        "outputId": "b93216ab-19e6-45a8-977f-64d673d4b011"
      },
      "source": [
        "len(xn_test)"
      ],
      "execution_count": 23,
      "outputs": [
        {
          "output_type": "execute_result",
          "data": {
            "text/plain": [
              "320"
            ]
          },
          "metadata": {
            "tags": []
          },
          "execution_count": 23
        }
      ]
    },
    {
      "cell_type": "code",
      "metadata": {
        "id": "8Swwt5S6-jO6",
        "colab_type": "code",
        "colab": {
          "base_uri": "https://localhost:8080/",
          "height": 235
        },
        "outputId": "f5024ffe-f2d8-4520-ddcd-fc236c2836a5"
      },
      "source": [
        "xn_test"
      ],
      "execution_count": 24,
      "outputs": [
        {
          "output_type": "execute_result",
          "data": {
            "text/plain": [
              "array([[ 0.32865025, -1.22720326,  1.53075612, ..., -0.32450502,\n",
              "        -0.74626292, -0.67044786],\n",
              "       [-0.19157706,  3.58614142, -0.31514742, ...,  0.19912459,\n",
              "        -1.10682588,  0.08934272],\n",
              "       [ 0.44425632, -0.06536144,  0.30015376, ..., -0.45541242,\n",
              "        -0.32560612, -1.05034314],\n",
              "       ...,\n",
              "       [-0.19157706, -1.94643868,  0.50525415, ..., -2.74629198,\n",
              "        -1.28710737,  2.1787668 ],\n",
              "       [-0.76960741,  0.10061596, -0.7253482 , ...,  0.33003199,\n",
              "        -0.38569995, -0.67044786],\n",
              "       [-0.65400134,  0.48789657, -1.08427389, ...,  1.31183752,\n",
              "        -0.68616909, -0.8603955 ]])"
            ]
          },
          "metadata": {
            "tags": []
          },
          "execution_count": 24
        }
      ]
    },
    {
      "cell_type": "code",
      "metadata": {
        "id": "84nLB-zs8xg6",
        "colab_type": "code",
        "colab": {
          "base_uri": "https://localhost:8080/",
          "height": 134
        },
        "outputId": "7e33d40f-e9fe-4827-ad9b-3d413f84ae28"
      },
      "source": [
        "yn_train"
      ],
      "execution_count": 25,
      "outputs": [
        {
          "output_type": "execute_result",
          "data": {
            "text/plain": [
              "array([[-3.235678 ],\n",
              "       [-0.7664464],\n",
              "       [ 0.4681694],\n",
              "       ...,\n",
              "       [ 0.4681694],\n",
              "       [ 0.4681694],\n",
              "       [-0.7664464]])"
            ]
          },
          "metadata": {
            "tags": []
          },
          "execution_count": 25
        }
      ]
    },
    {
      "cell_type": "code",
      "metadata": {
        "id": "k3ppA3BY91l8",
        "colab_type": "code",
        "colab": {}
      },
      "source": [
        "from sklearn.ensemble import RandomForestRegressor\n",
        "from sklearn.linear_model import LinearRegression\n",
        "from sklearn.tree import DecisionTreeRegressor\n",
        "from sklearn.svm import SVR\n",
        "from sklearn.preprocessing import PolynomialFeatures"
      ],
      "execution_count": 26,
      "outputs": []
    },
    {
      "cell_type": "code",
      "metadata": {
        "id": "3MlRAgGk-LqC",
        "colab_type": "code",
        "colab": {}
      },
      "source": [
        "r_reg = RandomForestRegressor()\n",
        "l_reg = LinearRegression()\n",
        "d_reg = DecisionTreeRegressor()\n",
        "s_reg = SVR()\n",
        "p_reg = LinearRegression()"
      ],
      "execution_count": 27,
      "outputs": []
    },
    {
      "cell_type": "code",
      "metadata": {
        "id": "EIW6RmYjQEJr",
        "colab_type": "code",
        "colab": {}
      },
      "source": [
        "x_pol = PolynomialFeatures(degree=1)\n",
        "x_pol = x_pol.fit_transform(xn_train)"
      ],
      "execution_count": 28,
      "outputs": []
    },
    {
      "cell_type": "code",
      "metadata": {
        "id": "jvfL_3nJZSP8",
        "colab_type": "code",
        "colab": {}
      },
      "source": [
        "temp = PolynomialFeatures(degree=1)\n",
        "temp = temp.fit_transform(xn_test)"
      ],
      "execution_count": 29,
      "outputs": []
    },
    {
      "cell_type": "code",
      "metadata": {
        "id": "O_Pd-bAw-X8H",
        "colab_type": "code",
        "colab": {
          "base_uri": "https://localhost:8080/",
          "height": 121
        },
        "outputId": "fd749035-4dfb-4bda-bfee-027c782b8dc0"
      },
      "source": [
        "r_reg.fit(xn_train, yn_train)\n",
        "l_reg.fit(xn_train, yn_train)\n",
        "d_reg.fit(xn_train, yn_train)\n",
        "s_reg.fit(xn_train, yn_train)\n",
        "p_reg.fit(x_pol, yn_train)"
      ],
      "execution_count": 30,
      "outputs": [
        {
          "output_type": "stream",
          "text": [
            "/usr/local/lib/python3.6/dist-packages/ipykernel_launcher.py:1: DataConversionWarning: A column-vector y was passed when a 1d array was expected. Please change the shape of y to (n_samples,), for example using ravel().\n",
            "  \"\"\"Entry point for launching an IPython kernel.\n",
            "/usr/local/lib/python3.6/dist-packages/sklearn/utils/validation.py:760: DataConversionWarning: A column-vector y was passed when a 1d array was expected. Please change the shape of y to (n_samples, ), for example using ravel().\n",
            "  y = column_or_1d(y, warn=True)\n"
          ],
          "name": "stderr"
        },
        {
          "output_type": "execute_result",
          "data": {
            "text/plain": [
              "LinearRegression(copy_X=True, fit_intercept=True, n_jobs=None, normalize=False)"
            ]
          },
          "metadata": {
            "tags": []
          },
          "execution_count": 30
        }
      ]
    },
    {
      "cell_type": "code",
      "metadata": {
        "id": "U3TNUx6s-gJg",
        "colab_type": "code",
        "colab": {}
      },
      "source": [
        "r_pred = r_reg.predict(xn_test)\n",
        "l_pred = l_reg.predict(xn_test)\n",
        "d_pred = d_reg.predict(xn_test)\n",
        "s_pred = s_reg.predict(xn_test)\n",
        "p_pred = p_reg.predict(temp)"
      ],
      "execution_count": 31,
      "outputs": []
    },
    {
      "cell_type": "code",
      "metadata": {
        "id": "8LEhn407_U6L",
        "colab_type": "code",
        "colab": {}
      },
      "source": [
        "\n",
        "from sklearn.metrics import r2_score"
      ],
      "execution_count": 32,
      "outputs": []
    },
    {
      "cell_type": "code",
      "metadata": {
        "id": "1sZwzfREG3D0",
        "colab_type": "code",
        "colab": {}
      },
      "source": [
        "r = r2_score(yn_test, r_pred)\n",
        "l = r2_score(yn_test, l_pred)\n",
        "d = r2_score(yn_test, d_pred)\n",
        "s = r2_score(yn_test, s_pred)\n",
        "p = r2_score(yn_test, p_pred)"
      ],
      "execution_count": 33,
      "outputs": []
    },
    {
      "cell_type": "code",
      "metadata": {
        "id": "pO6BqtCtHHbD",
        "colab_type": "code",
        "colab": {
          "base_uri": "https://localhost:8080/",
          "height": 34
        },
        "outputId": "d5b27b78-b9ab-43db-bc81-6e7cd8b54f79"
      },
      "source": [
        "print(r, l, d, s, p)"
      ],
      "execution_count": 34,
      "outputs": [
        {
          "output_type": "stream",
          "text": [
            "0.4941042612887723 0.28423973016576465 0.04264389018926984 0.4168039038991409 0.28423973016576465\n"
          ],
          "name": "stdout"
        }
      ]
    }
  ]
}